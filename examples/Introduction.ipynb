{
 "cells": [
  {
   "cell_type": "markdown",
   "metadata": {},
   "source": [
    "Julia's `broadcast` framework allows programmers to syntactically fuse pointwise array operations using a `.` after function application to indicate that the function should be applied pointwise to the elements of it's arguments. As an example, let's take the pointwise product of three arrays:"
   ]
  },
  {
   "cell_type": "code",
   "execution_count": 1,
   "metadata": {},
   "outputs": [
    {
     "data": {
      "text/plain": [
       "4×4 Array{Int64,2}:\n",
       "   1  0    3  0\n",
       "  -5  0   -7  0\n",
       "   9  0   11  0\n",
       " -13  0  -15  0"
      ]
     },
     "execution_count": 1,
     "metadata": {},
     "output_type": "execute_result"
    }
   ],
   "source": [
    "A = [ 1  0  1  0  ]\n",
    "\n",
    "B = [ 1  2  3  4  ;\n",
    "      5  6  7  8  ;\n",
    "      9  10 11 12 ;\n",
    "      13 14 15 16 ]\n",
    "\n",
    "C = [ 1;\n",
    "     -1;\n",
    "      1;\n",
    "     -1]\n",
    "\n",
    "A.*B.*C"
   ]
  },
  {
   "cell_type": "markdown",
   "metadata": {},
   "source": [
    "Each of our arrays has a finite set of dimensions (`1x4`, `4x4`, and `4`, to be precise), but from the point of view of broadcast, each array also has an additional, infinite number of implicit dimensions of size `1` (`1x4x1x1x...`, `4x4x1x1x...`, and `4x1x1x1x...`). To take the pointwise product, dimensions of size `1` are expanded to match larger dimensions. If we were to put each dimension on a line, we might get a picture that looks something like:\n",
    "\n",
    "```\n",
    "...               ...               ...               ...\n",
    "\n",
    " 3  ------------- (1) ------------- (1) ------------- (1)\n",
    "\n",
    " 2  -------------  4  -------------  4  ------------- (1)\n",
    "\n",
    " 1  -------------  1  -------------  4  -------------  4\n",
    "\n",
    "dim                A       .*        B       .*        C\n",
    "```\n",
    "\n",
    "I've taken the liberty of parenthetizing the implicit dimensions. The expanded view of each array would look something like:\n",
    "\n",
    "```\n",
    "                  (A)      .*        B       .*       (C)\n",
    "\n",
    "            [ 1  0  1  0  ;   [ 1  2  3  4  ;   [ 1  1  1  1  ;\n",
    "              1  0  1  0  ;     5  6  7  8  ;    -1 -1 -1 -1  ;\n",
    "              1  0  1  0  ;     9  10 11 12 ;     1  1  1  1  ;\n",
    "              1  0  1  0  ]     13 14 15 16 ]    -1 -1 -1 -1  ]\n",
    "```\n",
    "\n",
    "Note that `broadcast` returns an array with a number of dimensions equal to the highest \"non-implicit\" dimension, so that we don't get arrays with infinite dimensions as output.\n",
    "\n",
    "While `broadcast` allows us to expand dimensions of size `1`, it does not provide any way to squish or swap dimensions. We introduce the `swizzle` operation to remedy the situation. `swizzle` sends the dimensions of its argument to some output dimensions, optionally reducing along dimensions with a specified reduction operator, according to a mask. The mask is an iterable object with eltypes of `Int` and `Drop`, where `drop` is an instance of the singleton type `Drop` that specifies a dimension is to be reduced over. If a mask is too short, implicit `drop` elements are added.\n",
    "\n",
    "As a first example, let's swizzle `A` into a column vector with the mask `(drop, 1)`. The operation can be visualized as:\n",
    "\n",
    "```\n",
    "...               ...               ...               ...\n",
    "\n",
    " 3  ------------- (1) ------------- drop              (1)\n",
    "\n",
    " 2  -------------  4  -------------  1  -----\\        (1)\n",
    "                                              \\\n",
    " 1  -------------  1  ------------- drop       \\-----  4\n",
    "\n",
    "dim                A                mask     swizzle(A, (drop, 1))\n",
    "```"
   ]
  },
  {
   "cell_type": "code",
   "execution_count": 2,
   "metadata": {},
   "outputs": [
    {
     "data": {
      "text/plain": [
       "4-element Array{Int64,1}:\n",
       " 1\n",
       " 0\n",
       " 1\n",
       " 0"
      ]
     },
     "execution_count": 2,
     "metadata": {},
     "output_type": "execute_result"
    }
   ],
   "source": [
    "using Swizzle\n",
    "swizzle(A, (drop, 1))"
   ]
  },
  {
   "cell_type": "markdown",
   "metadata": {},
   "source": [
    "We can use swizzles to quickly create arrays with many dimensions. Like `broadcast`, `swizzle` will produce an output array just large enough to hold all of the \"non-implicit\" dimensions from its argument. Consider swizzling `A` with respect to the mask `(1, 3, 4)`:\n",
    "```\n",
    "...               ...               ...               ...\n",
    "\n",
    " 4  ------------- (1) ------------- drop       /----- (1)\n",
    "                                              /\n",
    " 3  ------------- (1) -------------  4  -----/ /-----  4\n",
    "                                              /\n",
    " 2  -------------  4  -------------  3  -----/         1\n",
    "\n",
    " 1  -------------  1  -------------  1  -------------  1\n",
    "\n",
    "dim                A                mask     swizzle(A, (1, 3, 4))\n",
    "```"
   ]
  },
  {
   "cell_type": "code",
   "execution_count": 3,
   "metadata": {},
   "outputs": [
    {
     "data": {
      "text/plain": [
       "1×1×4 Array{Int64,3}:\n",
       "[:, :, 1] =\n",
       " 1\n",
       "\n",
       "[:, :, 2] =\n",
       " 0\n",
       "\n",
       "[:, :, 3] =\n",
       " 1\n",
       "\n",
       "[:, :, 4] =\n",
       " 0"
      ]
     },
     "execution_count": 3,
     "metadata": {},
     "output_type": "execute_result"
    }
   ],
   "source": [
    "swizzle(A, (1, 3, 4))"
   ]
  },
  {
   "cell_type": "markdown",
   "metadata": {},
   "source": [
    "My favorite feature of swizzles is that they can express reductions! For example, we can take the sum of `A` by swizzling with the mask `(drop, drop)` and the operation `+`:\n",
    "```\n",
    "...               ...               ...               ...\n",
    "\n",
    " 3  ------------- (1) ------------- drop              (1)\n",
    "\n",
    " 2  -------------  4  ------------- drop              (1)\n",
    "\n",
    " 1  ------------- (1) ------------- drop              (1)\n",
    "\n",
    "dim                A                mask    swizzle(A, (drop, drop), +)\n",
    "```"
   ]
  },
  {
   "cell_type": "code",
   "execution_count": 4,
   "metadata": {},
   "outputs": [
    {
     "data": {
      "text/plain": [
       "0-dimensional Array{Int64,0}:\n",
       "2"
      ]
     },
     "execution_count": 4,
     "metadata": {},
     "output_type": "execute_result"
    }
   ],
   "source": [
    "swizzle(A, (drop, drop), +)"
   ]
  },
  {
   "cell_type": "markdown",
   "metadata": {},
   "source": [
    "The `swizzle` operation can be fused with broadcast operations using the `Swizzle(mask, op)` type, which produces a lazy swizzle of its argument when it is broadcasted as a function. It can be convenient to define shorthand constructors for `Swizzle` types. `Sum(dims...)` produces a `Swizzle` which sums the dimensions given in `dims` and shifts remaining dimensions down. `Beam(dims...)` is a shorthand for `Swizzle(dims, nooperation)`. We can now express an entire matrix multiply operation using `broadcast` and `swizzle` operations! Remember that for matrices `D` and `E`, if `F == D * E` then $$F_{ij} = \\sum_k D_{ik} * E_{kj}$$ With swizzles, we express this as: ```Sum(2).(Beam(1, 2).(D).*Beam(2, 3).(E))```"
   ]
  },
  {
   "cell_type": "code",
   "execution_count": 5,
   "metadata": {},
   "outputs": [
    {
     "data": {
      "text/plain": [
       "true"
      ]
     },
     "execution_count": 5,
     "metadata": {},
     "output_type": "execute_result"
    }
   ],
   "source": [
    "D = rand(5,7)\n",
    "E = rand(7,6)\n",
    "Sum(2).(Beam(1, 2).(D).*Beam(2, 3).(E)) ≈ D*E\n"
   ]
  },
  {
   "cell_type": "markdown",
   "metadata": {},
   "source": [
    "Let's break down what just happened:\n",
    "```\n",
    "...               ...               ...               ...               ...\n",
    "                                                                \\\n",
    " 4  ------------- (1) ------------- (1) -------------  3  -----\\ \\----- (1)\n",
    "                                                                \\\n",
    " 3  ------------- (1) -------------  6  -------------  2  -----\\ \\----- (1)\n",
    "                                                                \\\n",
    " 2  -------------  7  -------------  7  ------------- drop       \\-----  6\n",
    "\n",
    " 1  -------------  5  -------------  1  -------------  1  -------------  5\n",
    "\n",
    "dim          Beam(1, 2).(D) .* Beam(2, 3).(E)       Sum(2).            D * E\n",
    "```\n",
    "Before the `Sum(2)` node, we have the expression `Beam(1, 2).(D).*Beam(2, 3).(E)`. `Beam(1, 2).(D)` is just `D`, and `Beam(2, 3).(E)` is just `E` shifted up one dimension, so `(Beam(1, 2).(D).*Beam(2, 3).(E))[i, k, j]` is $D_{ik} * E_{kj}$. At this point, we need only to sum over $k$, so we use `Sum(2)`, producing the matrix product."
   ]
  },
  {
   "cell_type": "code",
   "execution_count": null,
   "metadata": {},
   "outputs": [],
   "source": []
  }
 ],
 "metadata": {
  "kernelspec": {
   "display_name": "Julia 1.1.0-DEV",
   "language": "julia",
   "name": "julia-1.1"
  },
  "language_info": {
   "file_extension": ".jl",
   "mimetype": "application/julia",
   "name": "julia",
   "version": "1.1.0"
  }
 },
 "nbformat": 4,
 "nbformat_minor": 2
}
