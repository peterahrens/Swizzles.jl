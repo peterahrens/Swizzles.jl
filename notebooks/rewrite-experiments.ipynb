{
 "cells": [
  {
   "cell_type": "code",
   "execution_count": 1,
   "metadata": {},
   "outputs": [],
   "source": [
    "using Rewrite\n",
    "using Rewrite: PatternRule, EvalRule, Associative, Commutative"
   ]
  },
  {
   "cell_type": "markdown",
   "metadata": {},
   "source": [
    "### Setting up Spec\n",
    "Defines rules for simplifying `+`, `-`, `*` and `/`."
   ]
  },
  {
   "cell_type": "code",
   "execution_count": 2,
   "metadata": {},
   "outputs": [],
   "source": [
    "struct SimplificationSpec\n",
    "    rules::Rules\n",
    "    context::Context\n",
    "end"
   ]
  },
  {
   "cell_type": "code",
   "execution_count": 3,
   "metadata": {},
   "outputs": [],
   "source": [
    "function default_spec()\n",
    "    @vars x y z\n",
    "    equalities = [\n",
    "        PatternRule(@term(x * y + x * z), @term(x * (y + z))),\n",
    "        PatternRule(@term(y / x + z / x), @term((y + z) / x)),\n",
    "        PatternRule(@term(x - y), @term(x + -y)),\n",
    "        PatternRule(@term(x + -x), @term(zero(x))),\n",
    "        PatternRule(@term(-(x + y)), @term(-y + -x)),\n",
    "        PatternRule(@term(-(-x)), @term(x)),\n",
    "        PatternRule(@term(-1 * x), @term(-x)),\n",
    "        PatternRule(@term(-x * y), @term(-(x * y))),\n",
    "        EvalRule(+),\n",
    "        EvalRule(-),\n",
    "        EvalRule(*),\n",
    "        EvalRule(/)\n",
    "    ]\n",
    "\n",
    "    properties = [\n",
    "        Associative(+),\n",
    "        Commutative(+),\n",
    "        Associative(*),\n",
    "        Commutative(*)\n",
    "    ]\n",
    "\n",
    "    return SimplificationSpec(Rules(equalities), Context(properties))\n",
    "end\n",
    "\n",
    "SPEC = default_spec();"
   ]
  },
  {
   "cell_type": "code",
   "execution_count": 16,
   "metadata": {},
   "outputs": [],
   "source": [
    "function simplify(term::Term)\n",
    "    Rewrite.with_context(SPEC.context) do\n",
    "       normalize(term, SPEC.rules)\n",
    "    end\n",
    "end;"
   ]
  },
  {
   "cell_type": "markdown",
   "metadata": {},
   "source": [
    "### Simplification Experiments"
   ]
  },
  {
   "cell_type": "code",
   "execution_count": 17,
   "metadata": {},
   "outputs": [],
   "source": [
    "@syms x y z;"
   ]
  },
  {
   "cell_type": "code",
   "execution_count": 50,
   "metadata": {},
   "outputs": [
    {
     "data": {
      "text/plain": [
       "3-element Array{Term,1}:\n",
       " @term(x * (z + y))          \n",
       " @term(x * x + x * y + x * z)\n",
       " @term(x * (z + (y + x)))    "
      ]
     },
     "execution_count": 50,
     "metadata": {},
     "output_type": "execute_result"
    }
   ],
   "source": [
    "[\n",
    "    simplify(@term(x * y + x * z))\n",
    "    simplify(@term(x * x + x * y + x * z))\n",
    "    simplify(@term((x * x + x * y) + x * z))\n",
    "]"
   ]
  },
  {
   "cell_type": "code",
   "execution_count": 51,
   "metadata": {},
   "outputs": [
    {
     "data": {
      "text/plain": [
       "4-element Array{Bool,1}:\n",
       "  true\n",
       " false\n",
       "  true\n",
       " false"
      ]
     },
     "execution_count": 51,
     "metadata": {},
     "output_type": "execute_result"
    }
   ],
   "source": [
    "[\n",
    "    match(@term(x), @term(x)) |> !isempty\n",
    "    match(@term(x), @term(y)) |> !isempty\n",
    "    match(@term(x + y), @term(y + x)) |> !isempty\n",
    "    match(@term(x + (y + z)), @term(x + y + z)) |> !isempty\n",
    "]"
   ]
  },
  {
   "cell_type": "markdown",
   "metadata": {},
   "source": [
    "The last example is a little concerning. We probably need more work on our rules, and more importantly a good specification of what types of expressions we need to handle."
   ]
  }
 ],
 "metadata": {
  "kernelspec": {
   "display_name": "Julia 1.1.0",
   "language": "julia",
   "name": "julia-1.1"
  },
  "language_info": {
   "file_extension": ".jl",
   "mimetype": "application/julia",
   "name": "julia",
   "version": "1.1.0"
  }
 },
 "nbformat": 4,
 "nbformat_minor": 2
}
