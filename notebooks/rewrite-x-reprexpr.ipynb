{
 "cells": [
  {
   "cell_type": "code",
   "execution_count": 2,
   "metadata": {},
   "outputs": [],
   "source": [
    "using Rewrite\n",
    "using Rewrite: Rule, PatternRule, EvalRule, Associative, Commutative\n",
    "\n",
    "using MacroTools\n",
    "\n",
    "using Swizzles\n",
    "using Swizzles.Antennae\n",
    "using Swizzles.RecognizeStyles: reprexpr\n",
    "\n",
    "using Base.Broadcast: Broadcasted, broadcasted"
   ]
  },
  {
   "cell_type": "markdown",
   "metadata": {},
   "source": [
    "### `termtransform` Experiments\n",
    "\n",
    "As of now termtransform does not recognize when two parts of an expression are equal."
   ]
  },
  {
   "cell_type": "code",
   "execution_count": 3,
   "metadata": {},
   "outputs": [],
   "source": [
    "function termtransform(ex, sym_to_ex::Dict{Symbolic, Any}) :: Symbolic\n",
    "    s = Symbolic(gensym())\n",
    "    sym_to_ex[s] = ex\n",
    "    return s\n",
    "end\n",
    "\n",
    "function termtransform(ex::Expr, sym_to_ex::Dict{Symbolic, Any})\n",
    "    if @capture(ex, f_(args__))\n",
    "        return :($f(\n",
    "            $(map(arg->termtransform(arg, sym_to_ex), args)...)\n",
    "        ))\n",
    "    elseif @capture(ex, arg_::T_) && !(T isa Union{Symbol, Expr})\n",
    "        s = Symbolic(gensym())\n",
    "        sym_to_ex[s] = arg\n",
    "        return s\n",
    "    else\n",
    "        s = Symbolic(gensym())\n",
    "        sym_to_ex[s] = ex\n",
    "        return s\n",
    "    end\n",
    "end\n",
    "\n",
    "function termtransform(ex) :: Tuple{Term, Dict{Symbolic, Any}}\n",
    "    sym_to_ex = Dict{Symbolic, Any}()\n",
    "    ex = termtransform(ex, sym_to_ex)\n",
    "    (Term(ex), sym_to_ex)\n",
    "end;"
   ]
  },
  {
   "cell_type": "code",
   "execution_count": 4,
   "metadata": {},
   "outputs": [
    {
     "data": {
      "text/plain": [
       ":((Antenna{typeof(*)}(*))(hi.args[1]::Array{Int64,2}, (Antenna{typeof(+)}(+))((hi.args[2]).args[1]::Array{Int64,2}, (hi.args[2]).args[2]::Array{Int64,1})))"
      ]
     },
     "execution_count": 4,
     "metadata": {},
     "output_type": "execute_result"
    }
   ],
   "source": [
    "A = [1 2 3; 4 5 6]\n",
    "B = [300 200 100]\n",
    "C = [1000]\n",
    "bd = broadcasted(*, A, broadcasted(+, B, C))\n",
    "r = reprexpr(:hi, typeof(bd))"
   ]
  },
  {
   "cell_type": "code",
   "execution_count": 5,
   "metadata": {},
   "outputs": [
    {
     "data": {
      "text/plain": [
       "(@term((Antenna{typeof(*)}(*))(##363, (Antenna{typeof(+)}(+))(##364, ##365))), Dict{Symbolic,Any}(##364=>:((hi.args[2]).args[1]),##365=>:((hi.args[2]).args[2]),##363=>:(hi.args[1])))"
      ]
     },
     "execution_count": 5,
     "metadata": {},
     "output_type": "execute_result"
    }
   ],
   "source": [
    "termtransform(r)"
   ]
  },
  {
   "cell_type": "markdown",
   "metadata": {},
   "source": [
    "### Simplification Experiments"
   ]
  },
  {
   "cell_type": "code",
   "execution_count": 6,
   "metadata": {},
   "outputs": [],
   "source": [
    "struct SimplificationSpec\n",
    "    rules::Rules\n",
    "    context::Context\n",
    "end"
   ]
  },
  {
   "cell_type": "code",
   "execution_count": 7,
   "metadata": {},
   "outputs": [
    {
     "data": {
      "text/plain": [
       "SimplificationSpec(Rules(Rule[PatternRule(@term(x * (y + z)), @term(x * y + x * z), Function[]), PatternRule(@term((Antenna{typeof(*)}(*))(x, (Antenna{typeof(+)}(+))(y, z))), @term((Antenna{typeof(+)}(+))((Antenna{typeof(*)}(*))(x, y), (Antenna{typeof(*)}(*))(x, z))), Function[])]), Context(Rewrite.Property[]))"
      ]
     },
     "execution_count": 7,
     "metadata": {},
     "output_type": "execute_result"
    }
   ],
   "source": [
    "function default_spec()\n",
    "    antenna_term(t::Term) = Term(antenna_expr(t.ex))\n",
    "    antenna_expr(v::Variable) = v\n",
    "    function antenna_expr(ex::Expr) :: Expr\n",
    "        if @capture(ex, f_(args__))\n",
    "            if f isa Union{Symbolic, Variable} # return f(b_t(arg1), b_t(arg2), b_t(arg3), ...)\n",
    "                return Expr(:call, f, map(antenna_term, args)...)\n",
    "            elseif f isa Expr\n",
    "                throw(ArgumentError(\"nonbroadcastable term: $ex\"))\n",
    "            elseif f isa Symbol\n",
    "                throw(ArgumentError(\"nonbroadcastable term: $ex\"))\n",
    "            else # return Antenna(f)(b_t(arg1), b_t(arg2), b_t(arg3))\n",
    "                return Expr(:call, Antenna(f), map(antenna_expr, args)...)\n",
    "            end\n",
    "        end\n",
    "        throw(ArgumentError(\"can't convert to antenna version: $ex\"))\n",
    "    end\n",
    "    \n",
    "    function antenna_rule(rule::PatternRule) :: PatternRule\n",
    "        if !isempty(rule.ps)\n",
    "            throw(ArgumentError(\"can't convert rule with properties: $r\"))\n",
    "        end\n",
    "        return PatternRule(antenna_term(rule.left), antenna_term(rule.right))\n",
    "    end\n",
    "    \n",
    "    @vars x y z\n",
    "    equalities = Array{Rule, 1}([        \n",
    "        PatternRule(@term(x * (y + z)), @term(x * y + x * z))\n",
    "        #=PatternRule(\n",
    "            @term(Antenna(*)(x, Antenna(+)(y, z))),\n",
    "            @term(Antenna(+)(Antenna(*)(x, y), Antenna(*)(x, z)))\n",
    "        )=#\n",
    "    ])\n",
    "    append!(equalities, map(antenna_rule, equalities))\n",
    "    \n",
    "    properties = []\n",
    "\n",
    "    return SimplificationSpec(Rules(equalities), Context(properties))\n",
    "end\n",
    "\n",
    "SPEC = default_spec()"
   ]
  },
  {
   "cell_type": "code",
   "execution_count": 8,
   "metadata": {},
   "outputs": [],
   "source": [
    "function simplify(term::Term)\n",
    "    Rewrite.with_context(SPEC.context) do\n",
    "       normalize(term, SPEC.rules)\n",
    "    end\n",
    "end;"
   ]
  },
  {
   "cell_type": "code",
   "execution_count": 9,
   "metadata": {},
   "outputs": [
    {
     "data": {
      "text/plain": [
       "@term(x * y + x * z)"
      ]
     },
     "execution_count": 9,
     "metadata": {},
     "output_type": "execute_result"
    }
   ],
   "source": [
    "@syms x y z;\n",
    "simplify(@term(x * (y + z)))"
   ]
  },
  {
   "cell_type": "code",
   "execution_count": 10,
   "metadata": {},
   "outputs": [
    {
     "data": {
      "text/plain": [
       ":((Antenna{typeof(*)}(*))(test.args[1]::Array{Int64,2}, (Antenna{typeof(+)}(+))((test.args[2]).args[1]::Array{Int64,2}, (test.args[2]).args[2]::Array{Int64,1})))"
      ]
     },
     "execution_count": 10,
     "metadata": {},
     "output_type": "execute_result"
    }
   ],
   "source": [
    "A = [1 2 3; 4 5 6]\n",
    "B = [300 200 100]\n",
    "C = [1000]\n",
    "bd = broadcasted(*, A, broadcasted(+, B, C))\n",
    "r = reprexpr(:test, typeof(bd))"
   ]
  },
  {
   "cell_type": "code",
   "execution_count": 11,
   "metadata": {},
   "outputs": [
    {
     "data": {
      "text/plain": [
       "@term((Antenna{typeof(+)}(+))((Antenna{typeof(*)}(*))(##366, ##367), (Antenna{typeof(*)}(*))(##366, ##368)))"
      ]
     },
     "execution_count": 11,
     "metadata": {},
     "output_type": "execute_result"
    }
   ],
   "source": [
    "simplify(termtransform(r)[1])"
   ]
  },
  {
   "cell_type": "markdown",
   "metadata": {},
   "source": [
    "### `exprtransform` Experiments"
   ]
  },
  {
   "cell_type": "code",
   "execution_count": 17,
   "metadata": {},
   "outputs": [
    {
     "data": {
      "text/plain": [
       "exprtransform (generic function with 3 methods)"
      ]
     },
     "execution_count": 17,
     "metadata": {},
     "output_type": "execute_result"
    }
   ],
   "source": [
    "function exprtransform(s::Symbolic, sym_to_ex::Dict{Symbolic, Any})\n",
    "    return sym_to_ex[s]\n",
    "end\n",
    "\n",
    "function exprtransform(ex::Expr, sym_to_ex::Dict{Symbolic, Any}) :: Expr\n",
    "    if @capture(ex, f_(args__))\n",
    "        return :($f(\n",
    "            $(map(arg->exprtransform(arg, sym_to_ex), args)...)\n",
    "        ))\n",
    "    end\n",
    "    throw(ArgumentError(\"non expr transformable: $ex\"))\n",
    "end\n",
    "\n",
    "function exprtransform(term::Term, sym_to_ex::Dict{Symbolic, Any}) :: Expr\n",
    "    return exprtransform(term.ex, sym_to_ex)\n",
    "end"
   ]
  },
  {
   "cell_type": "code",
   "execution_count": 18,
   "metadata": {},
   "outputs": [
    {
     "data": {
      "text/plain": [
       ":((Antenna{typeof(+)}(+))((Antenna{typeof(*)}(*))(test.args[1], (test.args[2]).args[1]), (Antenna{typeof(*)}(*))(test.args[1], (test.args[2]).args[2])))"
      ]
     },
     "execution_count": 18,
     "metadata": {},
     "output_type": "execute_result"
    }
   ],
   "source": [
    "t, d = termtransform(r)\n",
    "exprtransform(simplify(t), d)"
   ]
  },
  {
   "cell_type": "markdown",
   "metadata": {},
   "source": [
    "### Dynamic `reprexpr`"
   ]
  },
  {
   "cell_type": "code",
   "execution_count": 15,
   "metadata": {},
   "outputs": [],
   "source": [
    "function dynamic_reprexpr(leaf,\n",
    "                  obj_to_sym::IdDict{Any, Symbolic},\n",
    "                  sym_to_obj::Dict{Symbolic, Any})\n",
    "    if !haskey(obj_to_sym, leaf)\n",
    "        sym = Symbolic(gensym())\n",
    "        obj_to_sym[leaf] = sym\n",
    "        sym_to_obj[sym] = leaf\n",
    "    end\n",
    "     \n",
    "    return obj_to_sym[leaf]\n",
    "end\n",
    "\n",
    "\n",
    "function dynamic_reprexpr(bd::Broadcasted,\n",
    "                  obj_to_sym::IdDict{Any, Symbolic},\n",
    "                  sym_to_obj::Dict{Symbolic, Any})\n",
    "    arg_exprs = map(arg -> dynamic_reprexpr(arg, obj_to_sym, sym_to_obj),\n",
    "                    bd.args)\n",
    "    \n",
    "    :( $Antenna( $(bd.f) )( $(arg_exprs...) ) )\n",
    "end\n",
    "\n",
    "\n",
    "function dynamic_reprexpr(obj) :: Tuple{Term, Dict{Symbolic, Any}}\n",
    "    sym_to_obj = Dict{Symbolic, Any}()\n",
    "    expr = dynamic_reprexpr(obj, IdDict{Any, Symbolic}(), sym_to_obj)\n",
    "    (expr, sym_to_obj)\n",
    "end;"
   ]
  },
  {
   "cell_type": "code",
   "execution_count": 16,
   "metadata": {},
   "outputs": [
    {
     "data": {
      "text/plain": [
       "Broadcasted(+, (Broadcasted(*, ([1 2 3; 4 5 6], [300 200 100])), Broadcasted(*, ([1 2 3; 4 5 6], [1000]))))"
      ]
     },
     "execution_count": 16,
     "metadata": {},
     "output_type": "execute_result"
    }
   ],
   "source": [
    "A = [1 2 3; 4 5 6]\n",
    "B = [300 200 100]\n",
    "C = [1000]\n",
    "D = zeros((1000, 1000))\n",
    "bd = broadcasted(+, broadcasted(*, A, B), broadcasted(*, A, C))\n",
    "#bd = broadcasted(+, A)"
   ]
  },
  {
   "cell_type": "code",
   "execution_count": 17,
   "metadata": {},
   "outputs": [
    {
     "data": {
      "text/plain": [
       "(@term(((Antenna)(+))(((Antenna)(*))(##369, ##370), ((Antenna)(*))(##369, ##371))), Dict{Symbolic,Any}(##370=>[300 200 100],##371=>[1000],##369=>[1 2 3; 4 5 6]))"
      ]
     },
     "execution_count": 17,
     "metadata": {},
     "output_type": "execute_result"
    }
   ],
   "source": [
    "reprexpr(bd)"
   ]
  }
 ],
 "metadata": {
  "kernelspec": {
   "display_name": "Julia 1.1.0",
   "language": "julia",
   "name": "julia-1.1"
  },
  "language_info": {
   "file_extension": ".jl",
   "mimetype": "application/julia",
   "name": "julia",
   "version": "1.1.0"
  }
 },
 "nbformat": 4,
 "nbformat_minor": 2
}
