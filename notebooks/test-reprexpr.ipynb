{
 "cells": [
  {
   "cell_type": "code",
   "execution_count": 1,
   "metadata": {},
   "outputs": [
    {
     "name": "stderr",
     "output_type": "stream",
     "text": [
      "┌ Info: Recompiling stale cache file /Users/ed1d1a8d/.julia/compiled/v1.1/Swizzles/kktGh.ji for Swizzles [6997b572-c796-11e8-2991-b59c2857380c]\n",
      "└ @ Base loading.jl:1184\n",
      "[ Info: activating BaseHacks...\n",
      "WARNING: Method definition inc(Tuple{Int64}, Tuple{Int64}, Tuple{Int64}) in module IteratorsMD at multidimensional.jl:344 overwritten in module BaseHacks at /Users/ed1d1a8d/mit/julia/Swizzles.jl/src/base.jl:17.\n",
      "WARNING: Method definition inc(Any, Any, Any) in module IteratorsMD at multidimensional.jl:346 overwritten in module BaseHacks at /Users/ed1d1a8d/mit/julia/Swizzles.jl/src/base.jl:19.\n",
      "WARNING: Method definition getindex(Base.AbstractUnitRange{T} where T, Base.AbstractUnitRange{#s23} where #s23<:Integer) in module Base at range.jl:666 overwritten in module BaseHacks at /Users/ed1d1a8d/mit/julia/Swizzles.jl/src/base.jl:27.\n",
      "[ Info: BaseHacks is online. all your Base are belong to us.\n",
      "┌ Warning: Package Swizzles does not have Rewrite in its dependencies:\n",
      "│ - If you have Swizzles checked out for development and have\n",
      "│   added Rewrite as a dependency but haven't updated your primary\n",
      "│   environment's manifest file, try `Pkg.resolve()`.\n",
      "│ - Otherwise you may need to report an issue with Swizzles\n",
      "└ Loading Rewrite into Swizzles from project dependency, future warnings for Swizzles are suppressed.\n"
     ]
    }
   ],
   "source": [
    "using Swizzles\n",
    "using Swizzles.Antennae\n",
    "using Swizzles.RecognizeStyles: reprexpr\n",
    "\n",
    "using Base.Broadcast: broadcasted"
   ]
  },
  {
   "cell_type": "code",
   "execution_count": 2,
   "metadata": {},
   "outputs": [
    {
     "data": {
      "text/plain": [
       "10000"
      ]
     },
     "execution_count": 2,
     "metadata": {},
     "output_type": "execute_result"
    }
   ],
   "source": [
    "A = [1 2 3; 4 5 6]\n",
    "B = [300 200 100]\n",
    "C = [1000]\n",
    "D = 10000"
   ]
  },
  {
   "cell_type": "code",
   "execution_count": 3,
   "metadata": {},
   "outputs": [
    {
     "data": {
      "text/plain": [
       "Base.Broadcast.Broadcasted(+, ([1 2 3; 4 5 6], [300 200 100], [1000], 10000))"
      ]
     },
     "execution_count": 3,
     "metadata": {},
     "output_type": "execute_result"
    }
   ],
   "source": [
    "bd = broadcasted(+, A, B, C, D)"
   ]
  },
  {
   "cell_type": "code",
   "execution_count": 4,
   "metadata": {},
   "outputs": [
    {
     "data": {
      "text/plain": [
       ":((Antenna{typeof(+)}(+))(bd.args[1]::Array{Int64,2}, bd.args[2]::Array{Int64,2}, bd.args[3]::Array{Int64,1}, bd.args[4]::Int64))"
      ]
     },
     "execution_count": 4,
     "metadata": {},
     "output_type": "execute_result"
    }
   ],
   "source": [
    "reprexpr(:bd, typeof(bd))"
   ]
  },
  {
   "cell_type": "code",
   "execution_count": 11,
   "metadata": {},
   "outputs": [
    {
     "data": {
      "text/plain": [
       "true"
      ]
     },
     "execution_count": 11,
     "metadata": {},
     "output_type": "execute_result"
    }
   ],
   "source": [
    "reprexpr(:bd, typeof(bd)).args[1] isa Swizzles.Antennae.Antenna"
   ]
  }
 ],
 "metadata": {
  "kernelspec": {
   "display_name": "Julia 1.1.0",
   "language": "julia",
   "name": "julia-1.1"
  },
  "language_info": {
   "file_extension": ".jl",
   "mimetype": "application/julia",
   "name": "julia",
   "version": "1.1.0"
  }
 },
 "nbformat": 4,
 "nbformat_minor": 2
}
