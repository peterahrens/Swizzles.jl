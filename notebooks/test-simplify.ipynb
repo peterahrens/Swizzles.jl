{
 "cells": [
  {
   "cell_type": "code",
   "execution_count": 1,
   "metadata": {},
   "outputs": [
    {
     "name": "stderr",
     "output_type": "stream",
     "text": [
      "┌ Info: Recompiling stale cache file /Users/ed1d1a8d/.julia/compiled/v1.1/Swizzles/kktGh.ji for Swizzles [6997b572-c796-11e8-2991-b59c2857380c]\n",
      "└ @ Base loading.jl:1184\n",
      "[ Info: activating BaseHacks...\n",
      "WARNING: Method definition inc(Tuple{Int64}, Tuple{Int64}, Tuple{Int64}) in module IteratorsMD at multidimensional.jl:344 overwritten in module BaseHacks at /Users/ed1d1a8d/mit/julia/Swizzles.jl/src/base.jl:17.\n",
      "WARNING: Method definition inc(Any, Any, Any) in module IteratorsMD at multidimensional.jl:346 overwritten in module BaseHacks at /Users/ed1d1a8d/mit/julia/Swizzles.jl/src/base.jl:19.\n",
      "WARNING: Method definition getindex(Base.AbstractUnitRange{T} where T, Base.AbstractUnitRange{#s23} where #s23<:Integer) in module Base at range.jl:666 overwritten in module BaseHacks at /Users/ed1d1a8d/mit/julia/Swizzles.jl/src/base.jl:27.\n",
      "[ Info: BaseHacks is online. all your Base are belong to us.\n",
      "┌ Warning: Package Swizzles does not have Rewrite in its dependencies:\n",
      "│ - If you have Swizzles checked out for development and have\n",
      "│   added Rewrite as a dependency but haven't updated your primary\n",
      "│   environment's manifest file, try `Pkg.resolve()`.\n",
      "│ - Otherwise you may need to report an issue with Swizzles\n",
      "└ Loading Rewrite into Swizzles from project dependency, future warnings for Swizzles are suppressed.\n"
     ]
    }
   ],
   "source": [
    "using Base.Broadcast: broadcasted\n",
    "\n",
    "using Swizzles\n",
    "using Swizzles.SimplifyStyles\n",
    "using Swizzles.SimplifyStyles: simplify"
   ]
  },
  {
   "cell_type": "code",
   "execution_count": 14,
   "metadata": {},
   "outputs": [
    {
     "data": {
      "text/plain": [
       "([1 2 3; 4 5 6], [100 200 300])"
      ]
     },
     "execution_count": 14,
     "metadata": {},
     "output_type": "execute_result"
    }
   ],
   "source": [
    "A, B = [1 2 3; 4 5 6], [100 200 300]"
   ]
  },
  {
   "cell_type": "code",
   "execution_count": 3,
   "metadata": {},
   "outputs": [
    {
     "data": {
      "text/plain": [
       "Base.Broadcast.Broadcasted(+, (Base.Broadcast.Broadcasted(*, ([1 2 3; 4 5 6], [300 200 100])), Base.Broadcast.Broadcasted(*, ([1 2 3; 4 5 6], [1000]))))"
      ]
     },
     "execution_count": 3,
     "metadata": {},
     "output_type": "execute_result"
    }
   ],
   "source": [
    "simplify(broadcasted(*, A, broadcasted(+, B, C)))"
   ]
  },
  {
   "cell_type": "code",
   "execution_count": 9,
   "metadata": {},
   "outputs": [
    {
     "data": {
      "text/plain": [
       "true"
      ]
     },
     "execution_count": 9,
     "metadata": {},
     "output_type": "execute_result"
    }
   ],
   "source": [
    "Simplify.(A .* (B .+ C) .+ A) == A .* (B .+ C) .+ A"
   ]
  },
  {
   "cell_type": "code",
   "execution_count": 10,
   "metadata": {},
   "outputs": [
    {
     "data": {
      "text/plain": [
       "2×3 Array{Int64,2}:\n",
       "  1   4   9\n",
       " 16  25  36"
      ]
     },
     "execution_count": 10,
     "metadata": {},
     "output_type": "execute_result"
    }
   ],
   "source": [
    "Simplify.(A .* A)"
   ]
  },
  {
   "cell_type": "code",
   "execution_count": null,
   "metadata": {},
   "outputs": [],
   "source": []
  }
 ],
 "metadata": {
  "kernelspec": {
   "display_name": "Julia 1.1.0",
   "language": "julia",
   "name": "julia-1.1"
  },
  "language_info": {
   "file_extension": ".jl",
   "mimetype": "application/julia",
   "name": "julia",
   "version": "1.1.0"
  }
 },
 "nbformat": 4,
 "nbformat_minor": 2
}
