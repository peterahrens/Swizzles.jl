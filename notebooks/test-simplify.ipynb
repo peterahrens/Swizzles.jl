{
 "cells": [
  {
   "cell_type": "code",
   "execution_count": null,
   "metadata": {},
   "outputs": [
    {
     "name": "stderr",
     "output_type": "stream",
     "text": [
      "┌ Info: Recompiling stale cache file /Users/ed1d1a8d/.julia/compiled/v1.1/Swizzles/kktGh.ji for Swizzles [6997b572-c796-11e8-2991-b59c2857380c]\n",
      "└ @ Base loading.jl:1184\n",
      "[ Info: activating BaseHacks...\n",
      "WARNING: Method definition inc(Tuple{Int64}, Tuple{Int64}, Tuple{Int64}) in module IteratorsMD at multidimensional.jl:344 overwritten in module BaseHacks at /Users/ed1d1a8d/mit/julia/Swizzles.jl/src/base.jl:17.\n",
      "WARNING: Method definition inc(Any, Any, Any) in module IteratorsMD at multidimensional.jl:346 overwritten in module BaseHacks at /Users/ed1d1a8d/mit/julia/Swizzles.jl/src/base.jl:19.\n",
      "WARNING: Method definition getindex(Base.AbstractUnitRange{T} where T, Base.AbstractUnitRange{#s23} where #s23<:Integer) in module Base at range.jl:666 overwritten in module BaseHacks at /Users/ed1d1a8d/mit/julia/Swizzles.jl/src/base.jl:27.\n",
      "[ Info: BaseHacks is online. all your Base are belong to us.\n"
     ]
    }
   ],
   "source": [
    "using Base.Broadcast: Broadcasted, broadcasted\n",
    "\n",
    "using Swizzles\n",
    "using Swizzles.RecognizeStyles: reprexpr, simplify"
   ]
  },
  {
   "cell_type": "code",
   "execution_count": null,
   "metadata": {},
   "outputs": [],
   "source": [
    "A = [1 2 3; 4 5 6]\n",
    "B = [300 200 100]\n",
    "C = [1000]"
   ]
  },
  {
   "cell_type": "code",
   "execution_count": 3,
   "metadata": {},
   "outputs": [
    {
     "ename": "MethodError",
     "evalue": "MethodError: no method matching normalize(::Tuple{Rewrite.Term,Dict{Rewrite.Symbolic,Union{Expr, Symbol}}}, ::Rewrite.Rules)\nClosest candidates are:\n  normalize(!Matched::Rewrite.Term, ::Rewrite.Rules) at /Users/ed1d1a8d/.julia/packages/Rewrite/dCjJY/src/rule.jl:23\n  normalize(::Any, !Matched::Rewrite.EvalRule) at /Users/ed1d1a8d/.julia/packages/Rewrite/dCjJY/src/rule.jl:87\n  normalize(::Any, !Matched::Rewrite.OrderRule) at /Users/ed1d1a8d/.julia/packages/Rewrite/dCjJY/src/rule.jl:118\n  ...",
     "output_type": "error",
     "traceback": [
      "MethodError: no method matching normalize(::Tuple{Rewrite.Term,Dict{Rewrite.Symbolic,Union{Expr, Symbol}}}, ::Rewrite.Rules)\nClosest candidates are:\n  normalize(!Matched::Rewrite.Term, ::Rewrite.Rules) at /Users/ed1d1a8d/.julia/packages/Rewrite/dCjJY/src/rule.jl:23\n  normalize(::Any, !Matched::Rewrite.EvalRule) at /Users/ed1d1a8d/.julia/packages/Rewrite/dCjJY/src/rule.jl:87\n  normalize(::Any, !Matched::Rewrite.OrderRule) at /Users/ed1d1a8d/.julia/packages/Rewrite/dCjJY/src/rule.jl:118\n  ...",
      "",
      "Stacktrace:",
      " [1] (::getfield(Swizzles.RecognizeStyles, Symbol(\"##8#9\")))() at /Users/ed1d1a8d/mit/julia/Swizzles.jl/src/simplify.jl:192",
      " [2] with_context(::getfield(Swizzles.RecognizeStyles, Symbol(\"##8#9\")), ::Rewrite.Context) at /Users/ed1d1a8d/.julia/packages/Rewrite/dCjJY/src/context.jl:28",
      " [3] #s51#7 at /Users/ed1d1a8d/mit/julia/Swizzles.jl/src/simplify.jl:191 [inlined]",
      " [4] #s51#7(::Any, ::Any) at ./none:0",
      " [5] (::Core.GeneratedFunctionStub)(::Any, ::Vararg{Any,N} where N) at ./boot.jl:522",
      " [6] top-level scope at In[3]:1"
     ]
    }
   ],
   "source": [
    "simplify(broadcasted(*, A, broadcasted(+, B, C)))"
   ]
  },
  {
   "cell_type": "code",
   "execution_count": null,
   "metadata": {},
   "outputs": [],
   "source": []
  }
 ],
 "metadata": {
  "kernelspec": {
   "display_name": "Julia 1.1.0",
   "language": "julia",
   "name": "julia-1.1"
  },
  "language_info": {
   "file_extension": ".jl",
   "mimetype": "application/julia",
   "name": "julia",
   "version": "1.1.0"
  }
 },
 "nbformat": 4,
 "nbformat_minor": 2
}
